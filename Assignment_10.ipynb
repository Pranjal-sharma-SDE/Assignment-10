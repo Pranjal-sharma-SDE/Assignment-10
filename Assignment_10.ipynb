{
  "nbformat": 4,
  "nbformat_minor": 0,
  "metadata": {
    "colab": {
      "provenance": [],
      "authorship_tag": "ABX9TyNS2TDKYXUoF3o04VaCW6zq",
      "include_colab_link": true
    },
    "kernelspec": {
      "name": "python3",
      "display_name": "Python 3"
    },
    "language_info": {
      "name": "python"
    }
  },
  "cells": [
    {
      "cell_type": "markdown",
      "metadata": {
        "id": "view-in-github",
        "colab_type": "text"
      },
      "source": [
        "<a href=\"https://colab.research.google.com/github/Pranjal-sharma-SDE/Assignment-10/blob/main/Assignment_10.ipynb\" target=\"_parent\"><img src=\"https://colab.research.google.com/assets/colab-badge.svg\" alt=\"Open In Colab\"/></a>"
      ]
    },
    {
      "cell_type": "markdown",
      "source": [
        "# Q-2\n",
        "Syntax for try & except"
      ],
      "metadata": {
        "id": "Z5ZSB9e-3Vgg"
      }
    },
    {
      "cell_type": "code",
      "execution_count": 4,
      "metadata": {
        "colab": {
          "base_uri": "https://localhost:8080/"
        },
        "id": "-UsxNxtA3TPp",
        "outputId": "afd3cb64-5eb1-44a4-80fa-eb365efa5e7e"
      },
      "outputs": [
        {
          "output_type": "stream",
          "name": "stdout",
          "text": [
            "Enter the number 1\n",
            "1\n",
            "Enter the number 2\n",
            "0\n",
            "There is an Error: Division by zero is not allowed.\n"
          ]
        }
      ],
      "source": [
        "try:\n",
        "    # Code that may raise an exception\n",
        "    # ...\n",
        "    x=int(input('Enter the number 1\\n'))\n",
        "    y=int(input('Enter the number 2\\n'))\n",
        "    result= x/y\n",
        "except ZeroDivisionError:\n",
        "    # Code to handle the exception\n",
        "    # ...\n",
        "    print(\"There is an Error: Division by zero is not allowed.\")\n"
      ]
    },
    {
      "cell_type": "markdown",
      "source": [
        "# Q-5"
      ],
      "metadata": {
        "id": "atBs6HLj6aHp"
      }
    },
    {
      "cell_type": "code",
      "source": [
        "try:\n",
        "    # Outer try block\n",
        "    numerator = int(input(\"Enter the numerator: \"))\n",
        "    denominator = int(input(\"Enter the denominator: \"))\n",
        "\n",
        "    try:\n",
        "        # Inner try block\n",
        "        result = numerator / denominator\n",
        "        print(\"Result:\", result)\n",
        "\n",
        "    except ZeroDivisionError:\n",
        "        print(\"Error: Division by zero!\")\n",
        "\n",
        "    except ValueError:\n",
        "        print(\"Error: Invalid input!\")\n",
        "\n",
        "except Exception as e:\n",
        "    print(\"An error occurred:\", str(e))\n"
      ],
      "metadata": {
        "colab": {
          "base_uri": "https://localhost:8080/"
        },
        "id": "GShWwymL3kTj",
        "outputId": "ee2f50a7-3881-4d58-b979-2fd54575eaf6"
      },
      "execution_count": 5,
      "outputs": [
        {
          "output_type": "stream",
          "name": "stdout",
          "text": [
            "Enter the numerator: a\n",
            "An error occurred: invalid literal for int() with base 10: 'a'\n"
          ]
        }
      ]
    },
    {
      "cell_type": "markdown",
      "source": [
        "# Q-8"
      ],
      "metadata": {
        "id": "66Fbkn5A8Zx6"
      }
    },
    {
      "cell_type": "code",
      "source": [
        "try:\n",
        "    # Code that may raise an exception\n",
        "    # ...\n",
        "    x=int(input('Enter the number 1\\n'))\n",
        "    y=int(input('Enter the number 2\\n'))\n",
        "    result=int( x/y)\n",
        "    print(result)\n",
        "except ZeroDivisionError:\n",
        "    # Code to handle the exception\n",
        "    # ...\n",
        "    print(\"There is an Error: Division by zero is not allowed.\")"
      ],
      "metadata": {
        "colab": {
          "base_uri": "https://localhost:8080/"
        },
        "id": "EKZnVZAH6b6S",
        "outputId": "8a0301a2-3363-4f38-9c9c-981c02e9d79d"
      },
      "execution_count": 8,
      "outputs": [
        {
          "output_type": "stream",
          "name": "stdout",
          "text": [
            "Enter the number 1\n",
            "9\n",
            "Enter the number 2\n",
            "3\n",
            "3\n"
          ]
        }
      ]
    },
    {
      "cell_type": "code",
      "source": [
        "try:\n",
        "    string_num = input(\"Enter a number: \")\n",
        "    integer_num = int(string_num)\n",
        "    print(\"Integer value:\", integer_num)\n",
        "except ValueError:\n",
        "    print(\"Error: Invalid input! Cannot convert to integer.\")\n"
      ],
      "metadata": {
        "colab": {
          "base_uri": "https://localhost:8080/"
        },
        "id": "yRUNpAqM8eJR",
        "outputId": "9339da4c-f826-424c-f2e0-f5e58f3b9057"
      },
      "execution_count": 9,
      "outputs": [
        {
          "output_type": "stream",
          "name": "stdout",
          "text": [
            "Enter a number: p\n",
            "Error: Invalid input! Cannot convert to integer.\n"
          ]
        }
      ]
    },
    {
      "cell_type": "code",
      "source": [
        "try:\n",
        "    my_list = [1, 2, 3, 4, 5]\n",
        "    index = int(input(\"Enter the index: \"))\n",
        "    element = my_list[index]\n",
        "    print(\"Element at index\", index, \"is\", element)\n",
        "except IndexError:\n",
        "    print(\"Error: Index out of range!\")\n",
        "except ValueError:\n",
        "    print(\"Error: Invalid index input!\")\n"
      ],
      "metadata": {
        "colab": {
          "base_uri": "https://localhost:8080/"
        },
        "id": "mzyXi70p9Cdk",
        "outputId": "b6f6bdd1-ce37-4d17-a56d-9bf571aa2dc8"
      },
      "execution_count": 10,
      "outputs": [
        {
          "output_type": "stream",
          "name": "stdout",
          "text": [
            "Enter the index: 9\n",
            "Error: Index out of range!\n"
          ]
        }
      ]
    },
    {
      "cell_type": "code",
      "source": [],
      "metadata": {
        "id": "FFm27E8K84rs"
      },
      "execution_count": null,
      "outputs": []
    },
    {
      "cell_type": "code",
      "source": [
        "try:\n",
        "    value = int(input(\"Enter a value: \"))\n",
        "    if value < 0:\n",
        "        raise ValueError(\"Error: Negative value not allowed!\")\n",
        "    print(\"Value:\", value)\n",
        "except ValueError as e:\n",
        "    print(e)\n"
      ],
      "metadata": {
        "colab": {
          "base_uri": "https://localhost:8080/"
        },
        "id": "e3YB0VHl9Pcx",
        "outputId": "9d8bbb6b-903f-4a45-85b7-1bb60e169eb0"
      },
      "execution_count": 11,
      "outputs": [
        {
          "output_type": "stream",
          "name": "stdout",
          "text": [
            "Enter a value: -1\n",
            "Error: Negative value not allowed!\n"
          ]
        }
      ]
    },
    {
      "cell_type": "code",
      "source": [
        "try:\n",
        "    # Code that may raise an exception\n",
        "    numerator = int(input(\"Enter the numerator: \"))\n",
        "    denominator = int(input(\"Enter the denominator: \"))\n",
        "    result = numerator / denominator\n",
        "    print(\"Result:\", result)\n",
        "\n",
        "    string_num = input(\"Enter a number: \")\n",
        "    integer_num = int(string_num)\n",
        "    print(\"Integer value:\", integer_num)\n",
        "\n",
        "    my_list = [1, 2, 3, 4, 5]\n",
        "    index = int(input(\"Enter the index: \"))\n",
        "    element = my_list[index]\n",
        "    print(\"Element at index\", index, \"is\", element)\n",
        "\n",
        "    value = int(input(\"Enter a value: \"))\n",
        "    if value < 0:\n",
        "        raise ValueError(\"Error: Negative value not allowed!\")\n",
        "    print(\"Value:\", value)\n",
        "\n",
        "except Exception as e:\n",
        "    print(\"An error occurred:\", str(e))\n"
      ],
      "metadata": {
        "colab": {
          "base_uri": "https://localhost:8080/"
        },
        "id": "NiorQQit9zp4",
        "outputId": "e2fe3189-d853-4768-eb6e-ac1220a082d5"
      },
      "execution_count": 13,
      "outputs": [
        {
          "output_type": "stream",
          "name": "stdout",
          "text": [
            "Enter the numerator: 9\n",
            "Enter the denominator: 3\n",
            "Result: 3.0\n",
            "Enter a number: 8\n",
            "Integer value: 8\n",
            "Enter the index: 5\n",
            "An error occurred: list index out of range\n"
          ]
        }
      ]
    },
    {
      "cell_type": "code",
      "source": [
        "\n"
      ],
      "metadata": {
        "id": "HEu9P6F99QFA"
      },
      "execution_count": null,
      "outputs": []
    }
  ]
}